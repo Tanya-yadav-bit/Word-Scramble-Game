{
  "cells": [
    {
      "cell_type": "code",
      "execution_count": null,
      "metadata": {
        "colab": {
          "base_uri": "https://localhost:8080/"
        },
        "id": "1tKZyMVNjRnf",
        "outputId": "72fec947-f980-4838-a8e7-28a4f50a1559"
      },
      "outputs": [
        {
          "output_type": "stream",
          "name": "stdout",
          "text": [
            "Welcome to the Word Scramble Game!\n",
            "You have 5 words to guess\n",
            "\n",
            "\n",
            "Scrambled word: bluoyly g\n",
            "Hint: A film about Mumbai’s underground rap scene.\n"
          ]
        }
      ],
      "source": [
        "import random\n",
        "\n",
        "def shuffle_word(word):\n",
        "    shuffled = list(word)\n",
        "    random.shuffle(shuffled)\n",
        "    return ''.join(shuffled)\n",
        "\n",
        "def word_scramble_game():\n",
        "    words = {\n",
        "        'sholay': 'A classic Bollywood action film featuring Jai and Veeru.',\n",
        "        'dangal': 'A wrestling-based biographical movie starring Aamir Khan.',\n",
        "        'andhadhun': 'A thriller film about a blind pianist.',\n",
        "        'dishoom': 'An action-packed buddy cop film.',\n",
        "        'zindagi na milegi dobara': 'A road trip movie featuring three friends in Spain.',\n",
        "        'taare zameen par': 'A heart-touching film about a dyslexic child.',\n",
        "        'chak de india': 'A sports drama featuring a women’s hockey team.',\n",
        "        'yeh jawani hai deewani': 'A youth-centric film about love and friendship.',\n",
        "        'tanu weds manu': 'A romantic comedy about an arranged marriage gone wrong.',\n",
        "        'gully boy': 'A film about Mumbai’s underground rap scene.',\n",
        "        '3 idiots': 'A comedy-drama about three friends in an engineering college.',\n",
        "        'barfi': 'A touching film about a mute and deaf man’s love story.',\n",
        "        'queen': 'A story of self-discovery as a woman travels alone.',\n",
        "        'bajrangi bhaijaan': 'A film about a man helping a lost girl return home.',\n",
        "        'kabir singh': 'A passionate yet intense love story of a surgeon.',\n",
        "        'golmaal': 'A hilarious comedy movie with mistaken identities.',\n",
        "        'bhool bhulaiyaa': 'A psychological thriller involving a haunted palace.',\n",
        "        'rockstar': 'A musical drama about a musician’s journey.',\n",
        "        'raazi': 'A spy thriller about an Indian woman who marries a Pakistani officer.',\n",
        "        'sultan': 'A sports drama about a wrestler’s comeback story.',\n",
        "        'my name is khan': 'A drama about a man with Asperger’s syndrome on a journey to meet the President.',\n",
        "        'dilwale dulhania le jayenge': 'A timeless romantic classic featuring Raj and Simran.',\n",
        "        'om shanti om': 'A reincarnation drama centered around the Bollywood industry.',\n",
        "        'baahubali': 'An epic action-drama about a legendary warrior and king.'\n",
        "    }\n",
        "\n",
        "    score = 0\n",
        "    rounds = 5\n",
        "\n",
        "    print(\"Welcome to the Word Scramble Game!\")\n",
        "    print(\"You have 5 words to guess\\n\")\n",
        "\n",
        "    for _ in range(rounds):\n",
        "        word, hint = random.choice(list(words.items()))\n",
        "        scrambled_word = shuffle_word(word)\n",
        "        print(f\"\\nScrambled word: {scrambled_word}\")\n",
        "        print(f\"Hint: {hint}\")\n",
        "\n",
        "        attempts = 2\n",
        "        while attempts > 0:\n",
        "            user_guess = input(\"Your guess: \")\n",
        "            if user_guess.lower() == word:\n",
        "                print(\"Congratulations! You guessed it right.\")\n",
        "                score += 1\n",
        "                break\n",
        "            else:\n",
        "                attempts -= 1\n",
        "                if attempts > 0:\n",
        "                    print(f\"Incorrect! You have {attempts} attempt left.\")\n",
        "                else:\n",
        "                    print(f\"Sorry, the correct word was: {word}\")\n",
        "\n",
        "    print(f\"\\nGame Over! Your final score is: {score}/{rounds}\")\n",
        "\n",
        "if __name__ == \"__main__\":\n",
        "    word_scramble_game()\n"
      ]
    }
  ],
  "metadata": {
    "colab": {
      "provenance": []
    },
    "kernelspec": {
      "display_name": "Python 3",
      "name": "python3"
    },
    "language_info": {
      "name": "python"
    }
  },
  "nbformat": 4,
  "nbformat_minor": 0
}